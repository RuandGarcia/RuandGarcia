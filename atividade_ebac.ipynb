{
  "nbformat": 4,
  "nbformat_minor": 0,
  "metadata": {
    "colab": {
      "provenance": [],
      "authorship_tag": "ABX9TyM3Mr3catP5OA3HBHb6UyRb",
      "include_colab_link": true
    },
    "kernelspec": {
      "name": "python3",
      "display_name": "Python 3"
    },
    "language_info": {
      "name": "python"
    }
  },
  "cells": [
    {
      "cell_type": "markdown",
      "metadata": {
        "id": "view-in-github",
        "colab_type": "text"
      },
      "source": [
        "<a href=\"https://colab.research.google.com/github/RuandGarcia/RuandGarcia/blob/main/Untitled1.ipynb\" target=\"_parent\"><img src=\"https://colab.research.google.com/assets/colab-badge.svg\" alt=\"Open In Colab\"/></a>"
      ]
    },
    {
      "cell_type": "code",
      "source": [
        "# Estrutura condicional\n",
        "lista_produtos = {\"bola\", \"caderno\", \"bolsa\", \"estojo\"}\n",
        "print(\"\\nLista de produtos disponíveis:\")\n",
        "for val in lista_produtos:\n",
        "    print(val)\n",
        "\n",
        "# Definição de valores das variáveis\n",
        "produtos_loja1 = input(\"Quantos produtos temos na loja1? \")\n",
        "vendas = 70  # Valor fixo\n",
        "estoque_final = input(\"Quantos produtos temos no nosso estoque? \")\n",
        "\n",
        "# Conversão para definir o novo tipo da variável\n",
        "produtos = int(produtos)\n",
        "estoque_final = int(estoque_final)\n",
        "\n",
        "# 4 operações matemáticas\n",
        "print(\"Produtos dividido por vendas:\", produtos / vendas)\n",
        "print(\"Produtos multiplicado por vendas:\", produtos * vendas)\n",
        "print(\"Produtos menos vendas:\", produtos - vendas)\n",
        "print(\"Produtos mais vendas:\", produtos + vendas)\n",
        "#condicional\n",
        "if (vendas > estoque_final):\n",
        " print (\"temos problema nas vendas\")\n",
        "else :\n",
        " print(\"estamos com o estoque certo\")\n",
        "\n",
        "\n",
        "\n"
      ],
      "metadata": {
        "colab": {
          "base_uri": "https://localhost:8080/"
        },
        "outputId": "3e60bfc6-1751-42f4-9d6d-4e4ff2aef474",
        "id": "FylTdPk3JLVo"
      },
      "execution_count": 7,
      "outputs": [
        {
          "output_type": "stream",
          "name": "stdout",
          "text": [
            "\n",
            "Lista de produtos disponíveis:\n",
            "bolsa\n",
            "caderno\n",
            "bola\n",
            "estojo\n",
            "Quantos produtos temos na loja1? 200\n",
            "Quantos produtos temos no nosso estoque? 400\n",
            "Produtos dividido por vendas: 2.857142857142857\n",
            "Produtos multiplicado por vendas: 14000\n",
            "Produtos menos vendas: 130\n",
            "Produtos mais vendas: 270\n",
            "estamos com o estoque certo\n"
          ]
        }
      ]
    },
    {
      "cell_type": "markdown",
      "source": [],
      "metadata": {
        "id": "JFd6p4HXJJ8C"
      }
    },
    {
      "cell_type": "code",
      "source": [],
      "metadata": {
        "id": "3nt6_8mJIhHH"
      },
      "execution_count": null,
      "outputs": []
    }
  ]
}
