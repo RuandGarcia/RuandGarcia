{
  "nbformat": 4,
  "nbformat_minor": 0,
  "metadata": {
    "colab": {
      "provenance": [],
      "authorship_tag": "ABX9TyPrSn3DocIGc0AxNXkTK+eA",
      "include_colab_link": true
    },
    "kernelspec": {
      "name": "python3",
      "display_name": "Python 3"
    },
    "language_info": {
      "name": "python"
    }
  },
  "cells": [
    {
      "cell_type": "markdown",
      "metadata": {
        "id": "view-in-github",
        "colab_type": "text"
      },
      "source": [
        "<a href=\"https://colab.research.google.com/github/RuandGarcia/RuandGarcia/blob/main/Untitled1.ipynb\" target=\"_parent\"><img src=\"https://colab.research.google.com/assets/colab-badge.svg\" alt=\"Open In Colab\"/></a>"
      ]
    },
    {
      "cell_type": "code",
      "source": [
        "\n",
        "# 1 Definição de valores das variáveis\n",
        "x1 = input(\"digite o valor da X1: \")\n",
        "x2 = input(\"digite o valor da X2: \")\n",
        "\n",
        "# 2 Conversão para definir o novo tipo da variável\n",
        "x1 = int(x1)\n",
        "x2 = int(x2)\n",
        "# 3 implementar 4 operações matemáticas\n",
        "print(\"Agora Vamos Realizar as Operações\")\n",
        "resultados = input (''' Para escolher qual operacão você deseja realizar,\n",
        "digite a seguinte forma: (A) Adição, (S) Subtração, (M) Multiplicação,  (D) Divisão,  (R)Resto:''')\n",
        "\n",
        "resultados = resultados.upper()\n",
        "\n",
        "# laço de repetição ou uma condicional\n",
        "if resultados == \"A\":\n",
        "    print(\"resultado da adição: \", x1 + x2)\n",
        "elif resultados == \"S\":\n",
        "    print(\"resultado da subtração: \", x1 - x2)\n",
        "elif resultados == \"M\":\n",
        "    print(\"resultado da multiplicação: \", x1 * x2)\n",
        "elif resultados == \"D\":\n",
        "    print(\"resultado da divisão: \", x1 / x2)\n",
        "elif resultados == \"R\":\n",
        "    print(\"resultado do resto: \", x1 % x2)\n",
        "else:\n",
        "    print(\"operação inválida\")\n",
        "\n",
        "\n",
        "\n",
        "\n",
        "\n",
        "\n"
      ],
      "metadata": {
        "colab": {
          "base_uri": "https://localhost:8080/"
        },
        "outputId": "409fd47b-c8ed-435d-b00c-02108622a4dc",
        "id": "FylTdPk3JLVo"
      },
      "execution_count": 4,
      "outputs": [
        {
          "output_type": "stream",
          "name": "stdout",
          "text": [
            "digite o valor da X1 20\n",
            "digite o valor da X2 12\n",
            "Agora Vamos Realizar as Operações\n",
            " Para escolher qual operacão você deseja realizar, \n",
            "digite a seguinte forma: (A) Adição, (S) Subtração, (M) Multiplicação,  (D) Divisão,  (R)Resto:A\n",
            "resultado da adição  32\n"
          ]
        }
      ]
    },
    {
      "cell_type": "markdown",
      "source": [],
      "metadata": {
        "id": "JFd6p4HXJJ8C"
      }
    },
    {
      "cell_type": "code",
      "source": [],
      "metadata": {
        "id": "3nt6_8mJIhHH"
      },
      "execution_count": null,
      "outputs": []
    }
  ]
}
